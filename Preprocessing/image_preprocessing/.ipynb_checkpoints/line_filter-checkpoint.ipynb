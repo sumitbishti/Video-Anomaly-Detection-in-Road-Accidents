{
 "cells": [
  {
   "cell_type": "code",
   "execution_count": 11,
   "metadata": {
    "ExecuteTime": {
     "end_time": "2020-09-02T17:57:10.636419Z",
     "start_time": "2020-09-02T17:57:10.619464Z"
    }
   },
   "outputs": [],
   "source": [
    "import pywt \n",
    "import numpy as np\n",
    "from outliers import smirnov_grubbs as grubbs"
   ]
  },
  {
   "cell_type": "code",
   "execution_count": 12,
   "metadata": {
    "ExecuteTime": {
     "end_time": "2020-09-02T17:57:10.651380Z",
     "start_time": "2020-09-02T17:57:10.640409Z"
    }
   },
   "outputs": [],
   "source": [
    "def dwt_filter(Input,Methold='db1',Mode='constant',Mixed_Ratio=0.4):\n",
    "    a=Mixed_Ratio\n",
    "    w = pywt.Wavelet(Methold)\n",
    "    maxlev = pywt.dwt_max_level(len(Input), w)\n",
    "    coeffs = pywt.wavedec(Input, w, Mode,level=maxlev)\n",
    "    Out = pywt.waverec(coeffs, w)\n",
    "    \n",
    "    for i in range(1, len(coeffs)):\n",
    "        N = len(coeffs[i])\n",
    "        Mean=np.mean(abs(coeffs[i]))\n",
    "        sigma = (Mean/0.6745)\n",
    "        lamda=sigma*np.sqrt(2*np.log(N))\n",
    "        for k in range(len(coeffs[i])):\n",
    "            if(abs(coeffs[i][k]) >= lamda):\n",
    "                coeffs[i][k] = np.sign(coeffs[i][k]) * (abs(coeffs[i][k]) - a*lamda)\n",
    "            else:\n",
    "                coeffs[i][k] = 0.0\n",
    "    Output = pywt.waverec(coeffs, w) \n",
    "    return Input,Output"
   ]
  },
  {
   "cell_type": "code",
   "execution_count": 13,
   "metadata": {
    "ExecuteTime": {
     "end_time": "2020-09-02T17:57:10.667337Z",
     "start_time": "2020-09-02T17:57:10.654372Z"
    }
   },
   "outputs": [],
   "source": [
    "def grubbs_filter(inputdata,winsize=5):\n",
    "    myindice=[]\n",
    "    for i,b in enumerate([inputdata[i:i + winsize] for i in range(0, len(inputdata), winsize)]):\n",
    "        ouliers=grubbs.max_test_indices(b, alpha=0.05)\n",
    "        ouliers=[i*winsize+o for o in ouliers]\n",
    "        myindice.append(ouliers)\n",
    "    myindice=sum(myindice,[])    \n",
    "    b=[]\n",
    "    for index,value in enumerate(inputdata):\n",
    "        if not index in myindice:\n",
    "            value=0\n",
    "        b.append(value)\n",
    "    return b"
   ]
  },
  {
   "cell_type": "code",
   "execution_count": 16,
   "metadata": {
    "ExecuteTime": {
     "end_time": "2020-09-02T18:05:28.791094Z",
     "start_time": "2020-09-02T18:05:28.781152Z"
    }
   },
   "outputs": [],
   "source": [
    "def calc_derivative(inputdata):\n",
    "    derivative=[ inputdata[i+1]-inputdata[i] for i in range(0,len(inputdata)-1) ]\n",
    "    return derivative"
   ]
  },
  {
   "cell_type": "code",
   "execution_count": null,
   "metadata": {},
   "outputs": [],
   "source": []
  }
 ],
 "metadata": {
  "kernelspec": {
   "display_name": "Python [conda env:crowd] *",
   "language": "python",
   "name": "conda-env-crowd-py"
  },
  "language_info": {
   "codemirror_mode": {
    "name": "ipython",
    "version": 3
   },
   "file_extension": ".py",
   "mimetype": "text/x-python",
   "name": "python",
   "nbconvert_exporter": "python",
   "pygments_lexer": "ipython3",
   "version": "3.8.3"
  },
  "toc": {
   "base_numbering": 1,
   "nav_menu": {},
   "number_sections": true,
   "sideBar": true,
   "skip_h1_title": false,
   "title_cell": "Table of Contents",
   "title_sidebar": "Contents",
   "toc_cell": false,
   "toc_position": {},
   "toc_section_display": true,
   "toc_window_display": false
  }
 },
 "nbformat": 4,
 "nbformat_minor": 4
}
