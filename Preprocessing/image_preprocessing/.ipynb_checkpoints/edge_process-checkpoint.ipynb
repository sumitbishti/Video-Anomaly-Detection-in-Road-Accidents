{
 "cells": [
  {
   "cell_type": "code",
   "execution_count": 1,
   "metadata": {
    "ExecuteTime": {
     "end_time": "2020-08-27T12:38:02.628945Z",
     "start_time": "2020-08-27T12:38:02.429767Z"
    }
   },
   "outputs": [],
   "source": [
    "import cv2 as cv"
   ]
  },
  {
   "cell_type": "code",
   "execution_count": 2,
   "metadata": {
    "ExecuteTime": {
     "end_time": "2020-08-27T12:38:02.644485Z",
     "start_time": "2020-08-27T12:38:02.632964Z"
    }
   },
   "outputs": [],
   "source": [
    "class Edges_lib():\n",
    "    def __init__(self,Image):\n",
    "        super(Edges_lib, self).__init__()\n",
    "        self.Image=Image\n",
    "    @staticmethod\n",
    "    def Euler_Num(Image):\n",
    "        contours,hierachy = cv.findContours(cv.equalizeHist(Image),cv.RETR_CCOMP,cv.CHAIN_APPROX_SIMPLE)\n",
    "        holes=0\n",
    "        Euler_Number=0\n",
    "        if len(contours)>0:\n",
    "            for h in hierachy[0]:\n",
    "                if h[2]==-1:\n",
    "                    holes+=1\n",
    "            Euler_Number=len(contours)-holes\n",
    "        return Euler_Number"
   ]
  }
 ],
 "metadata": {
  "kernelspec": {
   "display_name": "Python [conda env:crowd] *",
   "language": "python",
   "name": "conda-env-crowd-py"
  },
  "language_info": {
   "codemirror_mode": {
    "name": "ipython",
    "version": 3
   },
   "file_extension": ".py",
   "mimetype": "text/x-python",
   "name": "python",
   "nbconvert_exporter": "python",
   "pygments_lexer": "ipython3",
   "version": "3.8.3"
  },
  "toc": {
   "base_numbering": 1,
   "nav_menu": {},
   "number_sections": true,
   "sideBar": true,
   "skip_h1_title": false,
   "title_cell": "Table of Contents",
   "title_sidebar": "Contents",
   "toc_cell": false,
   "toc_position": {},
   "toc_section_display": true,
   "toc_window_display": false
  }
 },
 "nbformat": 4,
 "nbformat_minor": 4
}
