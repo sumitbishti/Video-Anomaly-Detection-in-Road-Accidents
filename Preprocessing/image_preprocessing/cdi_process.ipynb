{
 "cells": [
  {
   "cell_type": "code",
   "execution_count": 1,
   "metadata": {
    "ExecuteTime": {
     "end_time": "2020-09-14T15:56:19.708240Z",
     "start_time": "2020-09-14T15:56:19.695276Z"
    }
   },
   "outputs": [],
   "source": [
    "import cv2 as cv\n",
    "import sys\n",
    "import time\n",
    "import math\n",
    "import numpy as np\n",
    "from sklearn.preprocessing import StandardScaler,MinMaxScaler"
   ]
  },
  {
   "cell_type": "code",
   "execution_count": 4,
   "metadata": {
    "ExecuteTime": {
     "end_time": "2020-09-14T15:56:19.753482Z",
     "start_time": "2020-09-14T15:56:19.710235Z"
    },
    "code_folding": []
   },
   "outputs": [],
   "source": [
    "class CDI_lib():\n",
    "    def __init__(self,istream,Threshold=False,mythold=[0,255]):\n",
    "        super(CDI_lib, self).__init__()\n",
    "        self.istream=istream\n",
    "        self.Threshold=Threshold\n",
    "        self.mythold=mythold\n",
    "        \n",
    "    def CDI(self,start_frame_num,image_type='GRAY',methods='GRAY',scale=False,threshold_type=cv.THRESH_BINARY):\n",
    "        self.istream.set(cv.CAP_PROP_POS_FRAMES, start_frame_num)\n",
    "        _, pre_frame = self.istream.read()\n",
    "        _, frame = self.istream.read()\n",
    "        _, next_frame = self.istream.read() \n",
    "\n",
    "        pre_frame = cv.resize(pre_frame, (224, 224),interpolation=cv.INTER_CUBIC)\n",
    "        frame = cv.resize(frame, (224, 224),interpolation=cv.INTER_CUBIC)\n",
    "        next_frame = cv.resize(next_frame, (224, 224),interpolation=cv.INTER_CUBIC)\n",
    "\n",
    "        if image_type=='GRAY':\n",
    "            pre_dst=cv.cvtColor(pre_frame, cv.COLOR_BGR2GRAY)\n",
    "            dst=cv.cvtColor(frame, cv.COLOR_BGR2GRAY)\n",
    "            next_dst=cv.cvtColor(next_frame, cv.COLOR_BGR2GRAY)\n",
    "        elif image_type=='BGR':\n",
    "            pre_dst=pre_frame\n",
    "            dst=frame\n",
    "            next_dst=next_frame\n",
    "        elif image_type=='HSV':\n",
    "            pre_dst=cv.cvtColor(pre_frame, cv.COLOR_BGR2HSV)\n",
    "            dst=cv.cvtColor(frame, cv.COLOR_BGR2HSV)\n",
    "            next_dst=cv.cvtColor(next_frame, cv.COLOR_BGR2HSV)\n",
    "\n",
    "        if methods == 'HARRIS':\n",
    "            pre_dst = cv.cornerHarris(pre_dst,2,3,0.04)\n",
    "            dst = cv.cornerHarris(dst,2,3,0.04)\n",
    "            next_dst = cv.cornerHarris(next_dst,2,3,0.04)\n",
    "        elif methods == 'LAPLACIAN':\n",
    "            pre_dst = cv.Laplacian(pre_dst, -1,3)\n",
    "            dst = cv.Laplacian(dst, -1,3)\n",
    "            next_dst = cv.Laplacian(next_dst, -1,3)\n",
    "        elif methods == 'CANNY':\n",
    "            pre_dst = cv.Canny(pre_dst,50,200)\n",
    "            dst = cv.Canny(dst,50,200)\n",
    "            next_dst = cv.Canny(next_dst,50,200)\n",
    "            \n",
    "        diff=cv.absdiff(pre_dst, dst)\n",
    "        diff2=cv.absdiff(dst, next_dst)\n",
    "        \n",
    "        if scale:\n",
    "            operator=np.zeros(diff.shape)\n",
    "            diff=cv.normalize(diff,operator,0,255,cv.NORM_MINMAX)  \n",
    "            diff2=cv.normalize(diff2,operator,0,255,cv.NORM_MINMAX)  \n",
    "            \n",
    "        CDI_IMAGE=cv.bitwise_and(diff,diff2)\n",
    "        \n",
    "        if self.Threshold:\n",
    "            _,diff=cv.threshold(diff, self.mythold[0], self.mythold[1], threshold_type)\n",
    "            _,diff2=cv.threshold(diff2,self.mythold[0],self.mythold[1],threshold_type)\n",
    "        \n",
    "        CDI_IMAGE=cv.bitwise_and(diff,diff2)\n",
    "\n",
    "            \n",
    "        return CDI_IMAGE,pre_frame\n",
    "\n",
    "    # @staticmethod \n",
    "    # def Pos_Morph(Image,OPEN_CLOSE=False,DILATE_ERODE=True,size1=1,size2=1):\n",
    "    #     if DILATE_ERODE:\n",
    "    #         kernel1 = cv.getStructuringElement(cv.MORPH_RECT,(size1,size1))\n",
    "    #         kernel2 = cv.getStructuringElement(cv.MORPH_RECT,(size2,size2))\n",
    "    #         Image = cv.erode(Image,kernel1)\n",
    "    #         Image =cv.dilate(Image,kernel2)\n",
    "    #     elif OPEN_CLOSE:\n",
    "    #         kernel1 = cv.getStructuringElement(cv.MORPH_RECT,(size1,size1))\n",
    "    #         kernel2 = cv.getStructuringElement(cv.MORPH_RECT,(size2,size2))\n",
    "    #         Image = cv.morphologyEx(Image, cv.MORPH_OPEN, kernel1)\n",
    "    #         Image = cv.morphologyEx(Image, cv.MORPH_CLOSE, kernel2)\n",
    "    #     return Image\n",
    "    # @staticmethod \n",
    "    # def CDI_Intensity(Image,Normalization=False):\n",
    "    #     if Normalization:\n",
    "    #         dst=np.zeros(Image.shape)\n",
    "    #         Image=cv.normalize(Image,dst,0,1,cv.NORM_MINMAX)\n",
    "                \n",
    "    #     Intensity=np.sum(Image,axis=(1,0))\n",
    "    #     return Intensity\n",
    "    # @staticmethod \n",
    "    # def CDI_Part_Intensity(Image,Normalization=False,bin_size=4):\n",
    "    #     img_shape=(4,112,112) if len(Image.shape)==2 else (4,112,112,3)\n",
    "    #     if Normalization:\n",
    "    #         dst=np.zeros(Image.shape)\n",
    "    #         Image=cv.normalize(Image,dst,0,1,cv.NORM_MINMAX)\n",
    "            \n",
    "    #     k=np.array(np.hsplit(Image,2))\n",
    "    #     p=np.array([np.vsplit(k[i],2) for i in range(2)]).reshape(img_shape)\n",
    "    #     Intensity=np.sum(p,axis=(1,2))\n",
    "    \n",
    "    #     return Intensity"
   ]
  }
 ],
 "metadata": {
  "kernelspec": {
   "display_name": "Python 3",
   "language": "python",
   "name": "python3"
  },
  "language_info": {
   "codemirror_mode": {
    "name": "ipython",
    "version": 3
   },
   "file_extension": ".py",
   "mimetype": "text/x-python",
   "name": "python",
   "nbconvert_exporter": "python",
   "pygments_lexer": "ipython3",
   "version": "3.9.1"
  },
  "toc": {
   "base_numbering": 1,
   "nav_menu": {},
   "number_sections": true,
   "sideBar": true,
   "skip_h1_title": false,
   "title_cell": "Table of Contents",
   "title_sidebar": "Contents",
   "toc_cell": false,
   "toc_position": {},
   "toc_section_display": true,
   "toc_window_display": false
  },
  "vscode": {
   "interpreter": {
    "hash": "9f3e08e97ec3800875dc771278e5e1cac5dd41c8b0a0d355a2afd45c26016379"
   }
  }
 },
 "nbformat": 4,
 "nbformat_minor": 4
}
