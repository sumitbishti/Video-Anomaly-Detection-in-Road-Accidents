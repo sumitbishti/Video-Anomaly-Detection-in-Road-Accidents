{
 "cells": [
  {
   "cell_type": "code",
   "execution_count": 21,
   "metadata": {
    "ExecuteTime": {
     "end_time": "2020-09-15T17:49:05.908045Z",
     "start_time": "2020-09-15T17:49:05.892098Z"
    }
   },
   "outputs": [],
   "source": [
    "import numpy as np  \n",
    "import matplotlib.pyplot as plt  \n",
    "import matplotlib.font_manager  \n",
    "import pandas as pd\n",
    "from sklearn import svm  \n",
    "from sklearn.model_selection import train_test_split\n",
    "from sklearn.preprocessing import StandardScaler,MinMaxScaler\n",
    "from sklearn import metrics\n",
    "from sklearn.metrics import roc_curve, auc, precision_recall_curve,confusion_matrix,classification_report\n",
    "plt.style.use('seaborn')"
   ]
  },
  {
   "cell_type": "code",
   "execution_count": 22,
   "metadata": {
    "ExecuteTime": {
     "end_time": "2020-09-15T17:49:05.939967Z",
     "start_time": "2020-09-15T17:49:05.910013Z"
    }
   },
   "outputs": [
    {
     "name": "stderr",
     "output_type": "stream",
     "text": [
      "<ipython-input-22-225eef3572c4>:2: SettingWithCopyWarning: \n",
      "A value is trying to be set on a copy of a slice from a DataFrame\n",
      "\n",
      "See the caveats in the documentation: https://pandas.pydata.org/pandas-docs/stable/user_guide/indexing.html#returning-a-view-versus-a-copy\n",
      "  d.Class[d['Class']==1] = -1\n",
      "<ipython-input-22-225eef3572c4>:3: SettingWithCopyWarning: \n",
      "A value is trying to be set on a copy of a slice from a DataFrame\n",
      "\n",
      "See the caveats in the documentation: https://pandas.pydata.org/pandas-docs/stable/user_guide/indexing.html#returning-a-view-versus-a-copy\n",
      "  d.Class[d['Class'] == 0] = 1\n"
     ]
    },
    {
     "data": {
      "text/html": [
       "<div>\n",
       "<style scoped>\n",
       "    .dataframe tbody tr th:only-of-type {\n",
       "        vertical-align: middle;\n",
       "    }\n",
       "\n",
       "    .dataframe tbody tr th {\n",
       "        vertical-align: top;\n",
       "    }\n",
       "\n",
       "    .dataframe thead th {\n",
       "        text-align: right;\n",
       "    }\n",
       "</style>\n",
       "<table border=\"1\" class=\"dataframe\">\n",
       "  <thead>\n",
       "    <tr style=\"text-align: right;\">\n",
       "      <th></th>\n",
       "      <th>0</th>\n",
       "      <th>1</th>\n",
       "      <th>2</th>\n",
       "      <th>3</th>\n",
       "      <th>4</th>\n",
       "      <th>5</th>\n",
       "      <th>6</th>\n",
       "      <th>7</th>\n",
       "      <th>8</th>\n",
       "      <th>9</th>\n",
       "      <th>...</th>\n",
       "      <th>19</th>\n",
       "      <th>20</th>\n",
       "      <th>21</th>\n",
       "      <th>22</th>\n",
       "      <th>23</th>\n",
       "      <th>24</th>\n",
       "      <th>25</th>\n",
       "      <th>26</th>\n",
       "      <th>27</th>\n",
       "      <th>Class</th>\n",
       "    </tr>\n",
       "  </thead>\n",
       "  <tbody>\n",
       "    <tr>\n",
       "      <th>0</th>\n",
       "      <td>0.114438</td>\n",
       "      <td>0.140184</td>\n",
       "      <td>0.117099</td>\n",
       "      <td>0.090462</td>\n",
       "      <td>0.061536</td>\n",
       "      <td>0.058827</td>\n",
       "      <td>0.076523</td>\n",
       "      <td>0.054710</td>\n",
       "      <td>0.051101</td>\n",
       "      <td>0.161849</td>\n",
       "      <td>...</td>\n",
       "      <td>0.057461</td>\n",
       "      <td>0.026434</td>\n",
       "      <td>0.038884</td>\n",
       "      <td>0.604908</td>\n",
       "      <td>0.381741</td>\n",
       "      <td>0.114864</td>\n",
       "      <td>0.085328</td>\n",
       "      <td>0.094948</td>\n",
       "      <td>0.097022</td>\n",
       "      <td>1</td>\n",
       "    </tr>\n",
       "    <tr>\n",
       "      <th>1</th>\n",
       "      <td>0.348783</td>\n",
       "      <td>0.457155</td>\n",
       "      <td>0.459225</td>\n",
       "      <td>0.368381</td>\n",
       "      <td>0.425025</td>\n",
       "      <td>0.400959</td>\n",
       "      <td>0.208270</td>\n",
       "      <td>0.233481</td>\n",
       "      <td>0.247873</td>\n",
       "      <td>0.207251</td>\n",
       "      <td>...</td>\n",
       "      <td>0.198511</td>\n",
       "      <td>0.219586</td>\n",
       "      <td>0.195566</td>\n",
       "      <td>0.267384</td>\n",
       "      <td>0.219364</td>\n",
       "      <td>0.177270</td>\n",
       "      <td>0.222399</td>\n",
       "      <td>0.173094</td>\n",
       "      <td>0.169770</td>\n",
       "      <td>1</td>\n",
       "    </tr>\n",
       "    <tr>\n",
       "      <th>2</th>\n",
       "      <td>1.192100</td>\n",
       "      <td>1.171016</td>\n",
       "      <td>1.308730</td>\n",
       "      <td>1.353133</td>\n",
       "      <td>1.401836</td>\n",
       "      <td>1.401335</td>\n",
       "      <td>1.299708</td>\n",
       "      <td>1.205565</td>\n",
       "      <td>1.228056</td>\n",
       "      <td>1.338457</td>\n",
       "      <td>...</td>\n",
       "      <td>1.212109</td>\n",
       "      <td>0.861883</td>\n",
       "      <td>0.772912</td>\n",
       "      <td>1.001028</td>\n",
       "      <td>1.327866</td>\n",
       "      <td>1.037109</td>\n",
       "      <td>0.764830</td>\n",
       "      <td>0.846871</td>\n",
       "      <td>1.206934</td>\n",
       "      <td>1</td>\n",
       "    </tr>\n",
       "    <tr>\n",
       "      <th>3</th>\n",
       "      <td>0.838410</td>\n",
       "      <td>0.703969</td>\n",
       "      <td>1.290861</td>\n",
       "      <td>1.205247</td>\n",
       "      <td>0.716265</td>\n",
       "      <td>0.363922</td>\n",
       "      <td>0.347208</td>\n",
       "      <td>0.781451</td>\n",
       "      <td>0.814710</td>\n",
       "      <td>0.252073</td>\n",
       "      <td>...</td>\n",
       "      <td>0.280406</td>\n",
       "      <td>0.054998</td>\n",
       "      <td>0.039085</td>\n",
       "      <td>0.729423</td>\n",
       "      <td>0.794296</td>\n",
       "      <td>0.565316</td>\n",
       "      <td>0.185258</td>\n",
       "      <td>0.178586</td>\n",
       "      <td>0.132766</td>\n",
       "      <td>1</td>\n",
       "    </tr>\n",
       "    <tr>\n",
       "      <th>4</th>\n",
       "      <td>0.966680</td>\n",
       "      <td>1.013764</td>\n",
       "      <td>0.859604</td>\n",
       "      <td>0.731158</td>\n",
       "      <td>0.618052</td>\n",
       "      <td>0.513335</td>\n",
       "      <td>0.365159</td>\n",
       "      <td>0.393421</td>\n",
       "      <td>0.775395</td>\n",
       "      <td>0.632960</td>\n",
       "      <td>...</td>\n",
       "      <td>0.465689</td>\n",
       "      <td>0.491000</td>\n",
       "      <td>0.459163</td>\n",
       "      <td>0.601426</td>\n",
       "      <td>0.855205</td>\n",
       "      <td>0.742445</td>\n",
       "      <td>0.654155</td>\n",
       "      <td>0.455056</td>\n",
       "      <td>0.382461</td>\n",
       "      <td>1</td>\n",
       "    </tr>\n",
       "  </tbody>\n",
       "</table>\n",
       "<p>5 rows × 29 columns</p>\n",
       "</div>"
      ],
      "text/plain": [
       "          0         1         2         3         4         5         6  \\\n",
       "0  0.114438  0.140184  0.117099  0.090462  0.061536  0.058827  0.076523   \n",
       "1  0.348783  0.457155  0.459225  0.368381  0.425025  0.400959  0.208270   \n",
       "2  1.192100  1.171016  1.308730  1.353133  1.401836  1.401335  1.299708   \n",
       "3  0.838410  0.703969  1.290861  1.205247  0.716265  0.363922  0.347208   \n",
       "4  0.966680  1.013764  0.859604  0.731158  0.618052  0.513335  0.365159   \n",
       "\n",
       "          7         8         9  ...        19        20        21        22  \\\n",
       "0  0.054710  0.051101  0.161849  ...  0.057461  0.026434  0.038884  0.604908   \n",
       "1  0.233481  0.247873  0.207251  ...  0.198511  0.219586  0.195566  0.267384   \n",
       "2  1.205565  1.228056  1.338457  ...  1.212109  0.861883  0.772912  1.001028   \n",
       "3  0.781451  0.814710  0.252073  ...  0.280406  0.054998  0.039085  0.729423   \n",
       "4  0.393421  0.775395  0.632960  ...  0.465689  0.491000  0.459163  0.601426   \n",
       "\n",
       "         23        24        25        26        27  Class  \n",
       "0  0.381741  0.114864  0.085328  0.094948  0.097022      1  \n",
       "1  0.219364  0.177270  0.222399  0.173094  0.169770      1  \n",
       "2  1.327866  1.037109  0.764830  0.846871  1.206934      1  \n",
       "3  0.794296  0.565316  0.185258  0.178586  0.132766      1  \n",
       "4  0.855205  0.742445  0.654155  0.455056  0.382461      1  \n",
       "\n",
       "[5 rows x 29 columns]"
      ]
     },
     "metadata": {},
     "output_type": "display_data"
    }
   ],
   "source": [
    "d = pd.read_csv('C:/Users/jingy/Jupyter/Crime/Road/CDI_Based/Entropy/CSV/Laplacian.csv',index_col=0)\n",
    "d.Class[d['Class']==1] = -1\n",
    "d.Class[d['Class'] == 0] = 1\n",
    "display(d.head())"
   ]
  },
  {
   "cell_type": "code",
   "execution_count": 23,
   "metadata": {
    "ExecuteTime": {
     "end_time": "2020-09-15T17:49:05.955890Z",
     "start_time": "2020-09-15T17:49:05.941929Z"
    }
   },
   "outputs": [],
   "source": [
    "data = d\n",
    "mask = (data['Class'] == 1)\n",
    "\n",
    "X_train, X_test = train_test_split(data[mask], test_size=0.2, random_state=0)\n",
    "X_train = X_train.drop(['Class'], axis=1)\n",
    "X_test = X_test.drop(['Class'], axis=1)\n",
    "X_fraud = data[~mask].drop(['Class'], axis=1)\n",
    "\n",
    "x_test=np.vstack((X_test,X_fraud))\n",
    "y_test=[1]*len(X_test)+[-1]*len(X_fraud)\n",
    "std=StandardScaler()\n",
    "X_train=std.fit_transform(X_train)\n",
    "x_test=std.transform(x_test)"
   ]
  },
  {
   "cell_type": "code",
   "execution_count": 24,
   "metadata": {
    "ExecuteTime": {
     "end_time": "2020-09-15T17:49:05.986839Z",
     "start_time": "2020-09-15T17:49:05.960879Z"
    }
   },
   "outputs": [
    {
     "name": "stdout",
     "output_type": "stream",
     "text": [
      "0.7163120567375887\n",
      "              precision    recall  f1-score   support\n",
      "\n",
      "          -1       0.77      0.86      0.81       101\n",
      "           1       0.50      0.35      0.41        40\n",
      "\n",
      "    accuracy                           0.72       141\n",
      "   macro avg       0.63      0.61      0.61       141\n",
      "weighted avg       0.69      0.72      0.70       141\n",
      "\n"
     ]
    }
   ],
   "source": [
    "clf = svm.OneClassSVM(kernel='rbf',nu=0.6)  \n",
    "clf.fit(X_train)  \n",
    "\n",
    "y_pred = clf.predict(x_test)  \n",
    "y_prob = clf.decision_function(x_test)  # the lower, the more normal\n",
    "\n",
    "fpr,tpr,threshold_svc = metrics.roc_curve(y_test,y_prob)     \n",
    "auc_svc = metrics.auc(fpr,tpr)   \n",
    "\n",
    "precision, recall, _ = precision_recall_curve(y_test,y_prob)\n",
    "pr_auc = auc(recall, precision)\n",
    "\n",
    "score_svc = metrics.accuracy_score(y_test,y_pred)\n",
    "\n",
    "print(score_svc)\n",
    "print(classification_report(y_test, y_pred))"
   ]
  },
  {
   "cell_type": "code",
   "execution_count": 25,
   "metadata": {
    "ExecuteTime": {
     "end_time": "2020-09-15T17:49:06.219461Z",
     "start_time": "2020-09-15T17:49:05.987839Z"
    }
   },
   "outputs": [
    {
     "data": {
      "image/png": "[encoded data removed]",
      "text/plain": [
       "<Figure size 1008x432 with 2 Axes>"
      ]
     },
     "metadata": {},
     "output_type": "display_data"
    }
   ],
   "source": [
    "plt.figure(figsize=(14, 6))\n",
    "plt.subplot(121)\n",
    "#plt.figure(figsize=(14, 6))\n",
    "plt.title('Receiver Operating Characteristic \\nAUC = %0.2f'% auc_svc)   \n",
    "plt.plot(fpr, tpr, c='coral', lw=3)\n",
    "plt.plot([0,1],[0,1], c='dodgerblue', ls='--')\n",
    "plt.ylabel('TPR'); plt.xlabel('FPR')\n",
    "\n",
    "plt.subplot(122)\n",
    "plt.title('Precision-Recall curve based on \\nAUC = %0.2f'% pr_auc)\n",
    "plt.plot(recall[:-2], precision[:-2], c='coral', lw=3)\n",
    "plt.xlabel('Recall'); plt.ylabel('Precision')\n",
    "plt.show()"
   ]
  },
  {
   "cell_type": "code",
   "execution_count": null,
   "metadata": {},
   "outputs": [],
   "source": []
  },
  {
   "cell_type": "code",
   "execution_count": null,
   "metadata": {},
   "outputs": [],
   "source": []
  }
 ],
 "metadata": {
  "kernelspec": {
   "display_name": "Python [conda env:crowd] *",
   "language": "python",
   "name": "conda-env-crowd-py"
  },
  "language_info": {
   "codemirror_mode": {
    "name": "ipython",
    "version": 3
   },
   "file_extension": ".py",
   "mimetype": "text/x-python",
   "name": "python",
   "nbconvert_exporter": "python",
   "pygments_lexer": "ipython3",
   "version": "3.8.3"
  },
  "toc": {
   "base_numbering": 1,
   "nav_menu": {},
   "number_sections": true,
   "sideBar": true,
   "skip_h1_title": false,
   "title_cell": "Table of Contents",
   "title_sidebar": "Contents",
   "toc_cell": false,
   "toc_position": {},
   "toc_section_display": true,
   "toc_window_display": false
  }
 },
 "nbformat": 4,
 "nbformat_minor": 4
}
