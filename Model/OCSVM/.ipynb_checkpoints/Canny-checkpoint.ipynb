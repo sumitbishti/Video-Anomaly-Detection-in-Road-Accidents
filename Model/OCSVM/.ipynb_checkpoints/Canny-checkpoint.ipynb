{
 "cells": [
  {
   "cell_type": "code",
   "execution_count": 11,
   "metadata": {
    "ExecuteTime": {
     "end_time": "2020-09-15T17:45:39.427515Z",
     "start_time": "2020-09-15T17:45:39.414545Z"
    }
   },
   "outputs": [],
   "source": [
    "import numpy as np  \n",
    "import matplotlib.pyplot as plt  \n",
    "import matplotlib.font_manager  \n",
    "import pandas as pd\n",
    "from sklearn import svm  \n",
    "from sklearn.model_selection import train_test_split\n",
    "from sklearn.preprocessing import StandardScaler,MinMaxScaler\n",
    "from sklearn import metrics\n",
    "from sklearn.metrics import roc_curve, auc, precision_recall_curve,confusion_matrix,classification_report\n",
    "plt.style.use('seaborn')"
   ]
  },
  {
   "cell_type": "code",
   "execution_count": 12,
   "metadata": {
    "ExecuteTime": {
     "end_time": "2020-09-15T17:45:39.490312Z",
     "start_time": "2020-09-15T17:45:39.429478Z"
    }
   },
   "outputs": [
    {
     "name": "stderr",
     "output_type": "stream",
     "text": [
      "<ipython-input-12-68d5157f64d0>:2: SettingWithCopyWarning: \n",
      "A value is trying to be set on a copy of a slice from a DataFrame\n",
      "\n",
      "See the caveats in the documentation: https://pandas.pydata.org/pandas-docs/stable/user_guide/indexing.html#returning-a-view-versus-a-copy\n",
      "  d.Class[d['Class']==1] = -1\n",
      "<ipython-input-12-68d5157f64d0>:3: SettingWithCopyWarning: \n",
      "A value is trying to be set on a copy of a slice from a DataFrame\n",
      "\n",
      "See the caveats in the documentation: https://pandas.pydata.org/pandas-docs/stable/user_guide/indexing.html#returning-a-view-versus-a-copy\n",
      "  d.Class[d['Class'] == 0] = 1\n"
     ]
    },
    {
     "data": {
      "text/html": [
       "<div>\n",
       "<style scoped>\n",
       "    .dataframe tbody tr th:only-of-type {\n",
       "        vertical-align: middle;\n",
       "    }\n",
       "\n",
       "    .dataframe tbody tr th {\n",
       "        vertical-align: top;\n",
       "    }\n",
       "\n",
       "    .dataframe thead th {\n",
       "        text-align: right;\n",
       "    }\n",
       "</style>\n",
       "<table border=\"1\" class=\"dataframe\">\n",
       "  <thead>\n",
       "    <tr style=\"text-align: right;\">\n",
       "      <th></th>\n",
       "      <th>0</th>\n",
       "      <th>1</th>\n",
       "      <th>2</th>\n",
       "      <th>3</th>\n",
       "      <th>4</th>\n",
       "      <th>5</th>\n",
       "      <th>6</th>\n",
       "      <th>7</th>\n",
       "      <th>8</th>\n",
       "      <th>9</th>\n",
       "      <th>...</th>\n",
       "      <th>19</th>\n",
       "      <th>20</th>\n",
       "      <th>21</th>\n",
       "      <th>22</th>\n",
       "      <th>23</th>\n",
       "      <th>24</th>\n",
       "      <th>25</th>\n",
       "      <th>26</th>\n",
       "      <th>27</th>\n",
       "      <th>Class</th>\n",
       "    </tr>\n",
       "  </thead>\n",
       "  <tbody>\n",
       "    <tr>\n",
       "      <th>0</th>\n",
       "      <td>0.000690</td>\n",
       "      <td>0.000201</td>\n",
       "      <td>0.000115</td>\n",
       "      <td>0.001236</td>\n",
       "      <td>0.000172</td>\n",
       "      <td>0.000058</td>\n",
       "      <td>0.000460</td>\n",
       "      <td>0.000374</td>\n",
       "      <td>0.000172</td>\n",
       "      <td>0.000891</td>\n",
       "      <td>...</td>\n",
       "      <td>0.000201</td>\n",
       "      <td>0.000058</td>\n",
       "      <td>0.000115</td>\n",
       "      <td>0.001236</td>\n",
       "      <td>0.000747</td>\n",
       "      <td>0.000201</td>\n",
       "      <td>0.000201</td>\n",
       "      <td>0.000288</td>\n",
       "      <td>0.000690</td>\n",
       "      <td>1</td>\n",
       "    </tr>\n",
       "    <tr>\n",
       "      <th>1</th>\n",
       "      <td>0.004736</td>\n",
       "      <td>0.006684</td>\n",
       "      <td>0.005395</td>\n",
       "      <td>0.005252</td>\n",
       "      <td>0.007513</td>\n",
       "      <td>0.005539</td>\n",
       "      <td>0.003991</td>\n",
       "      <td>0.003819</td>\n",
       "      <td>0.004106</td>\n",
       "      <td>0.003762</td>\n",
       "      <td>...</td>\n",
       "      <td>0.004421</td>\n",
       "      <td>0.004134</td>\n",
       "      <td>0.003188</td>\n",
       "      <td>0.005252</td>\n",
       "      <td>0.004364</td>\n",
       "      <td>0.002614</td>\n",
       "      <td>0.003618</td>\n",
       "      <td>0.003762</td>\n",
       "      <td>0.003274</td>\n",
       "      <td>1</td>\n",
       "    </tr>\n",
       "    <tr>\n",
       "      <th>2</th>\n",
       "      <td>0.015926</td>\n",
       "      <td>0.015784</td>\n",
       "      <td>0.021629</td>\n",
       "      <td>0.020553</td>\n",
       "      <td>0.024316</td>\n",
       "      <td>0.023695</td>\n",
       "      <td>0.022422</td>\n",
       "      <td>0.022337</td>\n",
       "      <td>0.018142</td>\n",
       "      <td>0.018483</td>\n",
       "      <td>...</td>\n",
       "      <td>0.014418</td>\n",
       "      <td>0.010285</td>\n",
       "      <td>0.008857</td>\n",
       "      <td>0.010827</td>\n",
       "      <td>0.019986</td>\n",
       "      <td>0.014020</td>\n",
       "      <td>0.008629</td>\n",
       "      <td>0.011712</td>\n",
       "      <td>0.023044</td>\n",
       "      <td>1</td>\n",
       "    </tr>\n",
       "    <tr>\n",
       "      <th>3</th>\n",
       "      <td>0.006569</td>\n",
       "      <td>0.005739</td>\n",
       "      <td>0.020836</td>\n",
       "      <td>0.020978</td>\n",
       "      <td>0.008171</td>\n",
       "      <td>0.003045</td>\n",
       "      <td>0.002844</td>\n",
       "      <td>0.016153</td>\n",
       "      <td>0.017688</td>\n",
       "      <td>0.002786</td>\n",
       "      <td>...</td>\n",
       "      <td>0.001753</td>\n",
       "      <td>0.000316</td>\n",
       "      <td>0.000144</td>\n",
       "      <td>0.018256</td>\n",
       "      <td>0.018227</td>\n",
       "      <td>0.014020</td>\n",
       "      <td>0.001667</td>\n",
       "      <td>0.001293</td>\n",
       "      <td>0.000891</td>\n",
       "      <td>1</td>\n",
       "    </tr>\n",
       "    <tr>\n",
       "      <th>4</th>\n",
       "      <td>0.007800</td>\n",
       "      <td>0.009600</td>\n",
       "      <td>0.007084</td>\n",
       "      <td>0.005882</td>\n",
       "      <td>0.004994</td>\n",
       "      <td>0.003418</td>\n",
       "      <td>0.002528</td>\n",
       "      <td>0.003331</td>\n",
       "      <td>0.005223</td>\n",
       "      <td>0.004622</td>\n",
       "      <td>...</td>\n",
       "      <td>0.004937</td>\n",
       "      <td>0.004134</td>\n",
       "      <td>0.004163</td>\n",
       "      <td>0.005023</td>\n",
       "      <td>0.007342</td>\n",
       "      <td>0.006455</td>\n",
       "      <td>0.006140</td>\n",
       "      <td>0.003905</td>\n",
       "      <td>0.003762</td>\n",
       "      <td>1</td>\n",
       "    </tr>\n",
       "  </tbody>\n",
       "</table>\n",
       "<p>5 rows × 29 columns</p>\n",
       "</div>"
      ],
      "text/plain": [
       "          0         1         2         3         4         5         6  \\\n",
       "0  0.000690  0.000201  0.000115  0.001236  0.000172  0.000058  0.000460   \n",
       "1  0.004736  0.006684  0.005395  0.005252  0.007513  0.005539  0.003991   \n",
       "2  0.015926  0.015784  0.021629  0.020553  0.024316  0.023695  0.022422   \n",
       "3  0.006569  0.005739  0.020836  0.020978  0.008171  0.003045  0.002844   \n",
       "4  0.007800  0.009600  0.007084  0.005882  0.004994  0.003418  0.002528   \n",
       "\n",
       "          7         8         9  ...        19        20        21        22  \\\n",
       "0  0.000374  0.000172  0.000891  ...  0.000201  0.000058  0.000115  0.001236   \n",
       "1  0.003819  0.004106  0.003762  ...  0.004421  0.004134  0.003188  0.005252   \n",
       "2  0.022337  0.018142  0.018483  ...  0.014418  0.010285  0.008857  0.010827   \n",
       "3  0.016153  0.017688  0.002786  ...  0.001753  0.000316  0.000144  0.018256   \n",
       "4  0.003331  0.005223  0.004622  ...  0.004937  0.004134  0.004163  0.005023   \n",
       "\n",
       "         23        24        25        26        27  Class  \n",
       "0  0.000747  0.000201  0.000201  0.000288  0.000690      1  \n",
       "1  0.004364  0.002614  0.003618  0.003762  0.003274      1  \n",
       "2  0.019986  0.014020  0.008629  0.011712  0.023044      1  \n",
       "3  0.018227  0.014020  0.001667  0.001293  0.000891      1  \n",
       "4  0.007342  0.006455  0.006140  0.003905  0.003762      1  \n",
       "\n",
       "[5 rows x 29 columns]"
      ]
     },
     "metadata": {},
     "output_type": "display_data"
    }
   ],
   "source": [
    "d = pd.read_csv('C:/Users/jingy/Jupyter/Crime/Road/CDI_Based/Entropy/CSV/Canny.csv',index_col=0)\n",
    "d.Class[d['Class']==1] = -1\n",
    "d.Class[d['Class'] == 0] = 1\n",
    "display(d.head())"
   ]
  },
  {
   "cell_type": "code",
   "execution_count": 13,
   "metadata": {
    "ExecuteTime": {
     "end_time": "2020-09-15T17:45:39.522260Z",
     "start_time": "2020-09-15T17:45:39.493306Z"
    }
   },
   "outputs": [],
   "source": [
    "data = d\n",
    "mask = (data['Class'] == 1)\n",
    "\n",
    "X_train, X_test = train_test_split(data[mask], test_size=0.2, random_state=2)\n",
    "X_train = X_train.drop(['Class'], axis=1)\n",
    "X_test = X_test.drop(['Class'], axis=1)\n",
    "X_fraud = data[~mask].drop(['Class'], axis=1)\n",
    "\n",
    "x_test=np.vstack((X_test,X_fraud))\n",
    "y_test=[1]*len(X_test)+[-1]*len(X_fraud)\n",
    "std=StandardScaler()\n",
    "X_train=std.fit_transform(X_train)\n",
    "x_test=std.transform(x_test)"
   ]
  },
  {
   "cell_type": "code",
   "execution_count": 14,
   "metadata": {
    "ExecuteTime": {
     "end_time": "2020-09-15T17:45:39.538219Z",
     "start_time": "2020-09-15T17:45:39.524254Z"
    }
   },
   "outputs": [
    {
     "name": "stdout",
     "output_type": "stream",
     "text": [
      "0.6808510638297872\n",
      "              precision    recall  f1-score   support\n",
      "\n",
      "          -1       0.76      0.81      0.78       101\n",
      "           1       0.42      0.35      0.38        40\n",
      "\n",
      "    accuracy                           0.68       141\n",
      "   macro avg       0.59      0.58      0.58       141\n",
      "weighted avg       0.66      0.68      0.67       141\n",
      "\n"
     ]
    }
   ],
   "source": [
    "clf = svm.OneClassSVM(kernel='rbf',nu=0.6)  \n",
    "clf.fit(X_train)  \n",
    "\n",
    "y_pred = clf.predict(x_test)  \n",
    "y_prob = clf.decision_function(x_test)  # the lower, the more normal\n",
    "\n",
    "fpr,tpr,threshold_svc = metrics.roc_curve(y_test,y_prob)     \n",
    "auc_svc = metrics.auc(fpr,tpr)   \n",
    "\n",
    "precision, recall, _ = precision_recall_curve(y_test,y_prob)\n",
    "pr_auc = auc(recall, precision)\n",
    "\n",
    "score_svc = metrics.accuracy_score(y_test,y_pred)\n",
    "\n",
    "print(score_svc)\n",
    "print(classification_report(y_test, y_pred))"
   ]
  },
  {
   "cell_type": "code",
   "execution_count": 15,
   "metadata": {
    "ExecuteTime": {
     "end_time": "2020-09-15T17:45:39.776746Z",
     "start_time": "2020-09-15T17:45:39.540214Z"
    }
   },
   "outputs": [
    {
     "data": {
      "image/png": "[encoded data removed]",
      "text/plain": [
       "<Figure size 1008x432 with 2 Axes>"
      ]
     },
     "metadata": {},
     "output_type": "display_data"
    }
   ],
   "source": [
    "plt.figure(figsize=(14, 6))\n",
    "plt.subplot(121)\n",
    "#plt.figure(figsize=(14, 6))\n",
    "plt.title('Receiver Operating Characteristic \\nAUC = %0.2f'% auc_svc)   \n",
    "plt.plot(fpr, tpr, c='coral', lw=3)\n",
    "plt.plot([0,1],[0,1], c='dodgerblue', ls='--')\n",
    "plt.ylabel('TPR'); plt.xlabel('FPR')\n",
    "\n",
    "plt.subplot(122)\n",
    "plt.title('Precision-Recall curve based on \\nAUC = %0.2f'% pr_auc)\n",
    "plt.plot(recall[:-2], precision[:-2], c='coral', lw=3)\n",
    "plt.xlabel('Recall'); plt.ylabel('Precision')\n",
    "plt.show()"
   ]
  },
  {
   "cell_type": "code",
   "execution_count": null,
   "metadata": {},
   "outputs": [],
   "source": []
  }
 ],
 "metadata": {
  "kernelspec": {
   "display_name": "Python [conda env:crowd] *",
   "language": "python",
   "name": "conda-env-crowd-py"
  },
  "language_info": {
   "codemirror_mode": {
    "name": "ipython",
    "version": 3
   },
   "file_extension": ".py",
   "mimetype": "text/x-python",
   "name": "python",
   "nbconvert_exporter": "python",
   "pygments_lexer": "ipython3",
   "version": "3.8.3"
  },
  "toc": {
   "base_numbering": 1,
   "nav_menu": {},
   "number_sections": true,
   "sideBar": true,
   "skip_h1_title": false,
   "title_cell": "Table of Contents",
   "title_sidebar": "Contents",
   "toc_cell": false,
   "toc_position": {},
   "toc_section_display": true,
   "toc_window_display": false
  }
 },
 "nbformat": 4,
 "nbformat_minor": 4
}
