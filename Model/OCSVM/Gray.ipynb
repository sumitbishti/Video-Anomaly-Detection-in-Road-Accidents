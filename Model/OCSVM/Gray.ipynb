{
 "cells": [
  {
   "cell_type": "code",
   "execution_count": 1,
   "metadata": {
    "ExecuteTime": {
     "end_time": "2020-09-15T17:41:49.820126Z",
     "start_time": "2020-09-15T17:41:49.803171Z"
    }
   },
   "outputs": [],
   "source": [
    "import numpy as np  \n",
    "import matplotlib.pyplot as plt  \n",
    "import matplotlib.font_manager  \n",
    "import pandas as pd\n",
    "from sklearn import svm  \n",
    "from sklearn.model_selection import train_test_split\n",
    "from sklearn.preprocessing import StandardScaler,MinMaxScaler\n",
    "from sklearn import metrics\n",
    "from sklearn.metrics import roc_curve, auc, precision_recall_curve,confusion_matrix,classification_report\n",
    "plt.style.use('seaborn')"
   ]
  },
  {
   "cell_type": "code",
   "execution_count": 3,
   "metadata": {
    "ExecuteTime": {
     "end_time": "2020-09-15T17:41:49.868033Z",
     "start_time": "2020-09-15T17:41:49.822121Z"
    }
   },
   "outputs": [
    {
     "name": "stderr",
     "output_type": "stream",
     "text": [
      "<ipython-input-3-2c333a9a1c4e>:2: SettingWithCopyWarning: \n",
      "A value is trying to be set on a copy of a slice from a DataFrame\n",
      "\n",
      "See the caveats in the documentation: https://pandas.pydata.org/pandas-docs/stable/user_guide/indexing.html#returning-a-view-versus-a-copy\n",
      "  d.Class[d['Class']==1] = -1\n",
      "<ipython-input-3-2c333a9a1c4e>:3: SettingWithCopyWarning: \n",
      "A value is trying to be set on a copy of a slice from a DataFrame\n",
      "\n",
      "See the caveats in the documentation: https://pandas.pydata.org/pandas-docs/stable/user_guide/indexing.html#returning-a-view-versus-a-copy\n",
      "  d.Class[d['Class'] == 0] = 1\n"
     ]
    },
    {
     "data": {
      "text/html": [
       "<div>\n",
       "<style scoped>\n",
       "    .dataframe tbody tr th:only-of-type {\n",
       "        vertical-align: middle;\n",
       "    }\n",
       "\n",
       "    .dataframe tbody tr th {\n",
       "        vertical-align: top;\n",
       "    }\n",
       "\n",
       "    .dataframe thead th {\n",
       "        text-align: right;\n",
       "    }\n",
       "</style>\n",
       "<table border=\"1\" class=\"dataframe\">\n",
       "  <thead>\n",
       "    <tr style=\"text-align: right;\">\n",
       "      <th></th>\n",
       "      <th>0</th>\n",
       "      <th>1</th>\n",
       "      <th>2</th>\n",
       "      <th>3</th>\n",
       "      <th>4</th>\n",
       "      <th>5</th>\n",
       "      <th>6</th>\n",
       "      <th>7</th>\n",
       "      <th>8</th>\n",
       "      <th>9</th>\n",
       "      <th>...</th>\n",
       "      <th>19</th>\n",
       "      <th>20</th>\n",
       "      <th>21</th>\n",
       "      <th>22</th>\n",
       "      <th>23</th>\n",
       "      <th>24</th>\n",
       "      <th>25</th>\n",
       "      <th>26</th>\n",
       "      <th>27</th>\n",
       "      <th>Class</th>\n",
       "    </tr>\n",
       "  </thead>\n",
       "  <tbody>\n",
       "    <tr>\n",
       "      <th>0</th>\n",
       "      <td>0.091337</td>\n",
       "      <td>0.116164</td>\n",
       "      <td>0.082682</td>\n",
       "      <td>0.065471</td>\n",
       "      <td>0.040325</td>\n",
       "      <td>0.034460</td>\n",
       "      <td>0.041812</td>\n",
       "      <td>0.028746</td>\n",
       "      <td>0.038376</td>\n",
       "      <td>0.118293</td>\n",
       "      <td>...</td>\n",
       "      <td>0.037472</td>\n",
       "      <td>0.016945</td>\n",
       "      <td>0.030078</td>\n",
       "      <td>0.479320</td>\n",
       "      <td>0.269376</td>\n",
       "      <td>0.093853</td>\n",
       "      <td>0.070431</td>\n",
       "      <td>0.076576</td>\n",
       "      <td>0.078034</td>\n",
       "      <td>1</td>\n",
       "    </tr>\n",
       "    <tr>\n",
       "      <th>1</th>\n",
       "      <td>0.339148</td>\n",
       "      <td>0.426073</td>\n",
       "      <td>0.424330</td>\n",
       "      <td>0.343873</td>\n",
       "      <td>0.400055</td>\n",
       "      <td>0.398434</td>\n",
       "      <td>0.229129</td>\n",
       "      <td>0.242470</td>\n",
       "      <td>0.244308</td>\n",
       "      <td>0.209226</td>\n",
       "      <td>...</td>\n",
       "      <td>0.220796</td>\n",
       "      <td>0.224576</td>\n",
       "      <td>0.215038</td>\n",
       "      <td>0.294615</td>\n",
       "      <td>0.231862</td>\n",
       "      <td>0.194865</td>\n",
       "      <td>0.235808</td>\n",
       "      <td>0.202895</td>\n",
       "      <td>0.188064</td>\n",
       "      <td>1</td>\n",
       "    </tr>\n",
       "    <tr>\n",
       "      <th>2</th>\n",
       "      <td>1.169620</td>\n",
       "      <td>1.149726</td>\n",
       "      <td>1.283289</td>\n",
       "      <td>1.330018</td>\n",
       "      <td>1.377478</td>\n",
       "      <td>1.384790</td>\n",
       "      <td>1.273399</td>\n",
       "      <td>1.167964</td>\n",
       "      <td>1.199596</td>\n",
       "      <td>1.282005</td>\n",
       "      <td>...</td>\n",
       "      <td>1.133217</td>\n",
       "      <td>0.803359</td>\n",
       "      <td>0.716273</td>\n",
       "      <td>0.977331</td>\n",
       "      <td>1.306488</td>\n",
       "      <td>0.970416</td>\n",
       "      <td>0.732468</td>\n",
       "      <td>0.819460</td>\n",
       "      <td>1.175146</td>\n",
       "      <td>1</td>\n",
       "    </tr>\n",
       "    <tr>\n",
       "      <th>3</th>\n",
       "      <td>0.678514</td>\n",
       "      <td>0.550748</td>\n",
       "      <td>1.211692</td>\n",
       "      <td>1.164041</td>\n",
       "      <td>0.591498</td>\n",
       "      <td>0.268360</td>\n",
       "      <td>0.262265</td>\n",
       "      <td>0.786680</td>\n",
       "      <td>0.841955</td>\n",
       "      <td>0.203932</td>\n",
       "      <td>...</td>\n",
       "      <td>0.207253</td>\n",
       "      <td>0.043071</td>\n",
       "      <td>0.027644</td>\n",
       "      <td>0.729377</td>\n",
       "      <td>0.760799</td>\n",
       "      <td>0.590914</td>\n",
       "      <td>0.145336</td>\n",
       "      <td>0.130083</td>\n",
       "      <td>0.101409</td>\n",
       "      <td>1</td>\n",
       "    </tr>\n",
       "    <tr>\n",
       "      <th>4</th>\n",
       "      <td>0.814380</td>\n",
       "      <td>0.860416</td>\n",
       "      <td>0.717146</td>\n",
       "      <td>0.605213</td>\n",
       "      <td>0.522557</td>\n",
       "      <td>0.419437</td>\n",
       "      <td>0.322370</td>\n",
       "      <td>0.348295</td>\n",
       "      <td>0.648754</td>\n",
       "      <td>0.534378</td>\n",
       "      <td>...</td>\n",
       "      <td>0.414965</td>\n",
       "      <td>0.420689</td>\n",
       "      <td>0.430630</td>\n",
       "      <td>0.549334</td>\n",
       "      <td>0.708087</td>\n",
       "      <td>0.599063</td>\n",
       "      <td>0.549627</td>\n",
       "      <td>0.393857</td>\n",
       "      <td>0.356781</td>\n",
       "      <td>1</td>\n",
       "    </tr>\n",
       "  </tbody>\n",
       "</table>\n",
       "<p>5 rows × 29 columns</p>\n",
       "</div>"
      ],
      "text/plain": [
       "          0         1         2         3         4         5         6  \\\n",
       "0  0.091337  0.116164  0.082682  0.065471  0.040325  0.034460  0.041812   \n",
       "1  0.339148  0.426073  0.424330  0.343873  0.400055  0.398434  0.229129   \n",
       "2  1.169620  1.149726  1.283289  1.330018  1.377478  1.384790  1.273399   \n",
       "3  0.678514  0.550748  1.211692  1.164041  0.591498  0.268360  0.262265   \n",
       "4  0.814380  0.860416  0.717146  0.605213  0.522557  0.419437  0.322370   \n",
       "\n",
       "          7         8         9  ...        19        20        21        22  \\\n",
       "0  0.028746  0.038376  0.118293  ...  0.037472  0.016945  0.030078  0.479320   \n",
       "1  0.242470  0.244308  0.209226  ...  0.220796  0.224576  0.215038  0.294615   \n",
       "2  1.167964  1.199596  1.282005  ...  1.133217  0.803359  0.716273  0.977331   \n",
       "3  0.786680  0.841955  0.203932  ...  0.207253  0.043071  0.027644  0.729377   \n",
       "4  0.348295  0.648754  0.534378  ...  0.414965  0.420689  0.430630  0.549334   \n",
       "\n",
       "         23        24        25        26        27  Class  \n",
       "0  0.269376  0.093853  0.070431  0.076576  0.078034      1  \n",
       "1  0.231862  0.194865  0.235808  0.202895  0.188064      1  \n",
       "2  1.306488  0.970416  0.732468  0.819460  1.175146      1  \n",
       "3  0.760799  0.590914  0.145336  0.130083  0.101409      1  \n",
       "4  0.708087  0.599063  0.549627  0.393857  0.356781      1  \n",
       "\n",
       "[5 rows x 29 columns]"
      ]
     },
     "metadata": {},
     "output_type": "display_data"
    }
   ],
   "source": [
    "d = pd.read_csv('C:/Users/sumit/Desktop/Video-Anomaly-Detection-in-Road-Accidents/CSV/Gray.csv',index_col=0)\n",
    "d.Class[d['Class']==1] = -1\n",
    "d.Class[d['Class'] == 0] = 1\n",
    "display(d.head())"
   ]
  },
  {
   "cell_type": "code",
   "execution_count": 4,
   "metadata": {
    "ExecuteTime": {
     "end_time": "2020-09-15T17:41:49.883956Z",
     "start_time": "2020-09-15T17:41:49.870991Z"
    }
   },
   "outputs": [],
   "source": [
    "data = d\n",
    "mask = (data['Class'] == 1)\n",
    "\n",
    "X_train, X_test = train_test_split(data[mask], test_size=0.2, random_state=0)\n",
    "X_train = X_train.drop(['Class'], axis=1)\n",
    "X_test = X_test.drop(['Class'], axis=1)\n",
    "X_fraud = data[~mask].drop(['Class'], axis=1)\n",
    "\n",
    "x_test=np.vstack((X_test,X_fraud))\n",
    "y_test=[1]*len(X_test)+[-1]*len(X_fraud)\n",
    "# std=StandardScaler()\n",
    "# X_train=std.fit_transform(X_train)\n",
    "# x_test=std.transform(x_test)"
   ]
  },
  {
   "cell_type": "code",
   "execution_count": 5,
   "metadata": {
    "ExecuteTime": {
     "end_time": "2020-09-15T17:41:49.915216Z",
     "start_time": "2020-09-15T17:41:49.885951Z"
    }
   },
   "outputs": [
    {
     "name": "stdout",
     "output_type": "stream",
     "text": [
      "0.75177304964539\n",
      "              precision    recall  f1-score   support\n",
      "\n",
      "          -1       0.79      0.88      0.84       101\n",
      "           1       0.59      0.42      0.49        40\n",
      "\n",
      "    accuracy                           0.75       141\n",
      "   macro avg       0.69      0.65      0.66       141\n",
      "weighted avg       0.74      0.75      0.74       141\n",
      "\n"
     ]
    }
   ],
   "source": [
    "clf = svm.OneClassSVM(kernel='rbf',nu=0.6)  \n",
    "clf.fit(X_train)  \n",
    "\n",
    "y_pred = clf.predict(x_test)  \n",
    "y_prob = clf.decision_function(x_test)  # the lower, the more normal\n",
    "\n",
    "fpr,tpr,threshold_svc = metrics.roc_curve(y_test,y_prob)     \n",
    "auc_svc = metrics.auc(fpr,tpr)   \n",
    "\n",
    "precision, recall, _ = precision_recall_curve(y_test,y_prob)\n",
    "pr_auc = auc(recall, precision)\n",
    "\n",
    "score_svc = metrics.accuracy_score(y_test,y_pred)\n",
    "\n",
    "print(score_svc)\n",
    "print(classification_report(y_test, y_pred))"
   ]
  },
  {
   "cell_type": "code",
   "execution_count": 6,
   "metadata": {
    "ExecuteTime": {
     "end_time": "2020-09-15T17:41:50.152546Z",
     "start_time": "2020-09-15T17:41:49.917207Z"
    }
   },
   "outputs": [
    {
     "data": {
      "image/png": "[encoded data removed]",
      "text/plain": [
       "<Figure size 1008x432 with 2 Axes>"
      ]
     },
     "metadata": {},
     "output_type": "display_data"
    }
   ],
   "source": [
    "plt.figure(figsize=(14, 6))\n",
    "plt.subplot(121)\n",
    "#plt.figure(figsize=(14, 6))\n",
    "plt.title('Receiver Operating Characteristic \\nAUC = %0.2f'% auc_svc)   \n",
    "plt.plot(fpr, tpr, c='coral', lw=3)\n",
    "plt.plot([0,1],[0,1], c='dodgerblue', ls='--')\n",
    "plt.ylabel('TPR'); plt.xlabel('FPR')\n",
    "\n",
    "plt.subplot(122)\n",
    "plt.title('Precision-Recall curve based on \\nAUC = %0.2f'% pr_auc)\n",
    "plt.plot(recall[:-2], precision[:-2], c='coral', lw=3)\n",
    "plt.xlabel('Recall'); plt.ylabel('Precision')\n",
    "plt.show()"
   ]
  }
 ],
 "metadata": {
  "kernelspec": {
   "display_name": "Python 3",
   "language": "python",
   "name": "python3"
  },
  "language_info": {
   "codemirror_mode": {
    "name": "ipython",
    "version": 3
   },
   "file_extension": ".py",
   "mimetype": "text/x-python",
   "name": "python",
   "nbconvert_exporter": "python",
   "pygments_lexer": "ipython3",
   "version": "3.9.1"
  },
  "toc": {
   "base_numbering": 1,
   "nav_menu": {},
   "number_sections": true,
   "sideBar": true,
   "skip_h1_title": false,
   "title_cell": "Table of Contents",
   "title_sidebar": "Contents",
   "toc_cell": false,
   "toc_position": {},
   "toc_section_display": true,
   "toc_window_display": false
  },
  "vscode": {
   "interpreter": {
    "hash": "9f3e08e97ec3800875dc771278e5e1cac5dd41c8b0a0d355a2afd45c26016379"
   }
  }
 },
 "nbformat": 4,
 "nbformat_minor": 4
}
